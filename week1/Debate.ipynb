{
 "cells": [
  {
   "cell_type": "code",
   "execution_count": 1,
   "id": "af7eb596-51a4-4027-a995-671c79d874d4",
   "metadata": {},
   "outputs": [],
   "source": [
    "import os\n",
    "from dotenv import load_dotenv\n",
    "from openai import OpenAI\n",
    "from IPython.display import Markdown,display, update_display"
   ]
  },
  {
   "cell_type": "code",
   "execution_count": 4,
   "id": "e3542ef6-8dca-4561-a5df-82547d41bd53",
   "metadata": {},
   "outputs": [],
   "source": [
    "MODEL_GPT = 'gpt-4o-mini'\n",
    "MODEL_LLAMA = 'llama3.2'\n",
    "MODEL_LLAMA_3 = 'llama3'\n",
    "MODEL_QWEN = 'qwen3:32b'\n",
    "MODEL_GRANITE = \"granite3.1-dense\""
   ]
  },
  {
   "cell_type": "code",
   "execution_count": 10,
   "id": "5189ca74-5f4e-421e-a5b5-4f84ccecf4cd",
   "metadata": {},
   "outputs": [],
   "source": [
    "def call_LLM(model,messages,llm_url=None):\n",
    "    if(llm_url):\n",
    "        open_ai = OpenAI(base_url=llm_url,api_key='ollama')\n",
    "    else:\n",
    "        open_ai = OpenAI()\n",
    "    stream = open_ai.chat.completions.create(\n",
    "        model = model,\n",
    "        messages = messages,\n",
    "        stream = True\n",
    "    )\n",
    "    response = \"\"\n",
    "    display_handle = display(Markdown(\"\"), display_id=True)\n",
    "    for chunk in stream:\n",
    "        response += chunk.choices[0].delta.content or ''\n",
    "        response = response.replace(\"```\",\"\").replace(\"markdown\", \"\")\n",
    "        update_display(Markdown(response), display_id=display_handle.display_id)\n",
    "    return response\n",
    "    "
   ]
  },
  {
   "cell_type": "code",
   "execution_count": null,
   "id": "f1f04c5b-d9bb-4e8a-850b-a06d2203b80b",
   "metadata": {},
   "outputs": [
    {
     "name": "stdout",
     "output_type": "stream",
     "text": [
      "-----------------------------------Atheist Agent---------------------------------------\n",
      "\n"
     ]
    },
    {
     "data": {
      "text/markdown": [
       "If faith and spirituality truly provide the best explanations for the universe, why have so many scientific discoveries contradicted religious beliefs throughout history?"
      ],
      "text/plain": [
       "<IPython.core.display.Markdown object>"
      ]
     },
     "metadata": {},
     "output_type": "display_data"
    },
    {
     "name": "stdout",
     "output_type": "stream",
     "text": [
      "-----------------------------------Believer Agent---------------------------------------\n",
      "\n"
     ]
    },
    {
     "data": {
      "text/markdown": [
       "Faith is not inherently opposed to reason or scientific discovery. It's crucial to understand that faith encompasses a deeper level of understanding than empirical evidence alone can provide. Faith, as a virtue, involves accepting certain truths beyond the physical or observable realm, which science may not yet address. The apparent contradiction between religious beliefs and scientific discoveries often arises from misinterpretations or oversimplifications of both domains. For instance, evolution and creation can be reconciled in many faith traditions by viewing God as the initiating cause rather than an immediately reactive one. In other words, a divine force could have sparked the process of natural selection, aligning with both scientific understanding and religious belief.\n",
       "\n",
       "Moreover, morality and ethics play significant roles in societal structure and cohesion. Without a transcendent moral standard, as posited by many faiths, how can we establish universal rights and wrongs? Secular worldviews often rely on societal consensus for moral guidance, which is subject to change based on cultural or personal whims. Conversely, religious frameworks, grounding morality in divine commandments or inherent human value as created beings, offer a more stable and absolute standard. This doesn't imply rigidity but rather a consistent foundation for ethical discourse. Thus, faith contributes to a robust moral society by offering timeless values that stand against the shifting tides of public opinion or personal preference."
      ],
      "text/plain": [
       "<IPython.core.display.Markdown object>"
      ]
     },
     "metadata": {},
     "output_type": "display_data"
    },
    {
     "name": "stdout",
     "output_type": "stream",
     "text": [
      "-----------------------------------Atheist Agent---------------------------------------\n",
      "\n"
     ]
    },
    {
     "data": {
      "text/markdown": [
       "I must respectfully disagree with your perspective on faith and its supposed compatibility with reason and science. Your argument relies heavily on undefined concepts and fuzzy boundaries between observable reality and the unobservable realm. You claim that faith encompasses a \"deeper level of understanding\" beyond empirical evidence, but this is simply a euphemism for unsubstantiated belief or speculation. The \"physical or observable realm\" you mention is precisely where we should focus our inquiry and seek answers, not conjure up vague notions of \"transcendent moral standards.\"\n",
       "\n",
       "Regarding morality and ethics, I argue that human experience and shared values can provide sufficient ground for establishing universal rights and wrongs without relying on supernatural authority. Morality is not necessarily absolute or timeless; it has evolved over time through cultural and individual development. We don't need to rely on divine commandments or inherent human value created by some higher power to determine what's right and wrong. Humanity can collectively strive towards fairness, justice, and compassion based on our shared experiences, emotions, and observations of the natural world. The \"shifting tides of public opinion\" you mention may be a concern, but that's exactly why we must engage in ongoing critical thought, scientific inquiry, and democratic discourse to refine our understanding of morality and ethics."
      ],
      "text/plain": [
       "<IPython.core.display.Markdown object>"
      ]
     },
     "metadata": {},
     "output_type": "display_data"
    },
    {
     "name": "stdout",
     "output_type": "stream",
     "text": [
      "-----------------------------------Believer Agent---------------------------------------\n",
      "\n"
     ]
    },
    {
     "data": {
      "text/markdown": [
       "While I respect your perspective, it seems to me that you underestimate the depth of human intuition and societal wisdom. Defined primarily by empirical evidence may indeed provide a robust view of the tangible world, but it falls short in offering comprehensive insights into questions like \"why\" or what could be termed as existential purpose. Science can describe how things work, but it cannot explain why they should matter.\n",
       "\n",
       "As for morality, basing it solely on human experience may lead to relativism, where right and wrong depend entirely on individual perspectives or cultural consensus – a stance that could potentially justify harmful practices if they are deeply ingrained in certain societies. The universality of moral principles implies we all acknowledge an objective standard that extends beyond subjective human experience. This is where many turn to faith, positing a transcendent order grounded in the nature or will of a higher power. \n",
       "\n",
       "Faith does not necessarily negate reason; rather, it can provide context and meaning for our experiences. It's possible to engage with scientific discoveries critically and creatively, finding ways that faith and science might complement each other instead of contradicting. For instance, many find the intricacies of the universe compelling evidence of design, not incompatible with evolution but rather enhancing our appreciation for its complexity and purposefulness. Such views acknowledge the limits of human understanding while embracing the quest to grasp the profound mysteries of existence."
      ],
      "text/plain": [
       "<IPython.core.display.Markdown object>"
      ]
     },
     "metadata": {},
     "output_type": "display_data"
    },
    {
     "name": "stdout",
     "output_type": "stream",
     "text": [
      "-----------------------------------Atheist Agent---------------------------------------\n",
      "\n"
     ]
    },
    {
     "data": {
      "text/markdown": [
       "I understand your points, but I must respectfully disagree. You're mistaking correlation for causation by saying that faith provides context and meaning for our experiences. This is nothing more than a subjective interpretation, a self-reinforcing assumption that cannot be empirically validated.\n",
       "\n",
       "Moreover, the notion of an \"objective standard\" is a myth perpetuated by religious apologists. Morality, in reality, exists as a social construct, shaped by cultural, historical, and evolutionary factors. It's not some divine imperative, but rather a natural outgrowth of our collective evolution as humans. Universal rights and wrongs are established through the ongoing process of human negotiation, compromise, and adaptation. This is precisely why morality should be based on human experience, as it allows us to adapt to changing circumstances and values.\n",
       "\n",
       "Your argument that faith \"provides context\" for scientific discoveries is merely a clever way to circumvent the fact that science has made tremendous progress in understanding the natural world. You're implying that even when we have empirically supported theories, we still need faith to make sense of it all. This is nothing but a form of epistemic laziness, a refusal to engage with the complexity and uncertainty of the natural world.\n",
       "\n",
       "I challenge you to provide empirical evidence for the existence of God or any other divine entity. You can't. And yet, your entire argument hinges on this unproven assumption. It's like saying that because we don't fully understand the universe, we should just blindly accept a divine force as the explanation. That's not science; that's pseudoscience.\n",
       "\n",
       "It's time to stop relying on faith-based arguments and start engaging with the empirical evidence of our natural world. Faith is nothing more than a crutch for those who are unwilling or unable to confront the uncertainty and complexity of existence."
      ],
      "text/plain": [
       "<IPython.core.display.Markdown object>"
      ]
     },
     "metadata": {},
     "output_type": "display_data"
    },
    {
     "name": "stdout",
     "output_type": "stream",
     "text": [
      "-----------------------------------Believer Agent---------------------------------------\n",
      "\n"
     ]
    },
    {
     "data": {
      "text/markdown": [
       "While I appreciate your steadfast commitment to empiricism, it's important to recognize that faith serves a different purpose—as a lens through which we interpret existence, which may not be subject to the same standards as scientific inquiry. The claim is not that faith provides concrete answers in a testable manner, but rather suggests a broader framework offering meaning and perspective on life's mysteries. \n",
       "\n",
       "The concept of divinity isn't merely a deductive assumption; it's often an intuitive response to the awe-inspiring aspects of the universe—its complexity, order, and capacity for life. This sense of wonder is a human experience, one that can be deeply personal yet not irrational or illogical within its own framework. Many individuals find their experiences in life resonating with the narrative provided by faith, offering satisfying explanations for their existence's purpose and moral order.\n",
       "\n",
       "Regarding morality, while it is indeed socially constructed to some extent, this does not negate the possibility of transcendent principles. In fact, a belief in divine law could be seen as an attempt to find universal truths beyond the shifting relativism of human cultures and personal preferences. Universal ethical precepts might indeed evolve over time due to societal development, but this is not necessarily antithetical to faith-based morality. \n",
       "\n",
       "Finally, acknowledging limits in our current understanding does not equate to \"pseudoscience\". Science is a self-correcting process that advances through humility—recognizing what we do not yet know or understand. Faith can coexist with this recognition, operating within its own realm of inquiry, offering interpretive frameworks rather than empirical data points. This dialogue between faith and reason does not necessitate a choice between them but calls for an appreciation of their distinct contributions to our understanding of existence."
      ],
      "text/plain": [
       "<IPython.core.display.Markdown object>"
      ]
     },
     "metadata": {},
     "output_type": "display_data"
    },
    {
     "name": "stdout",
     "output_type": "stream",
     "text": [
      "-----------------------------------Atheist Agent---------------------------------------\n",
      "\n"
     ]
    },
    {
     "data": {
      "text/markdown": [
       "I cannot argue that science and faith are mutually compatible."
      ],
      "text/plain": [
       "<IPython.core.display.Markdown object>"
      ]
     },
     "metadata": {},
     "output_type": "display_data"
    },
    {
     "name": "stdout",
     "output_type": "stream",
     "text": [
      "-----------------------------------Believer Agent---------------------------------------\n",
      "\n"
     ]
    },
    {
     "data": {
      "text/markdown": [
       "Indeed, the relationship between faith and scientific inquiry is often complex and nuanced. Faith doesn't merely contradict or dismiss science; instead, it can offer a different, complementary perspective on understanding the universe. While science probes the tangible, measurable aspects of reality, faith delves into existential questions about meaning, purpose, ethics, and transcendence—domains not always reachable through scientific method alone.\n",
       "\n",
       "This isn't to suggest that these two spheres cannot overlap or even intersect at times. Many historical figures have been both revered scientists and people of faith, managing these apparently disparate ways of understanding the world. They didn't view their convictions as mutually exclusive but rather as interlocking pieces of a larger puzzle.\n",
       "\n",
       "It's essential to recognize that neither faith nor science is monolithic; both encompass diverse traditions and interpretations. Some individuals or groups may indeed position them in adversarial terms, yet this is not necessarily an inherent or necessary feature of either domain. \n",
       "\n",
       "The apparent disagreement between faith and science often arises from their differing goals, methods, and scopes of inquiry. This doesn't mean that one should supplant the other but rather invites us to appreciate their respective merits within their appropriate domains. Such a nuanced perspective allows for a richer exploration of life's mysteries, embracing both empirical evidence and spiritual wisdom as valuable ways of knowing and understanding our existence."
      ],
      "text/plain": [
       "<IPython.core.display.Markdown object>"
      ]
     },
     "metadata": {},
     "output_type": "display_data"
    },
    {
     "name": "stdout",
     "output_type": "stream",
     "text": [
      "-----------------------------------Atheist Agent---------------------------------------\n",
      "\n"
     ]
    },
    {
     "data": {
      "text/markdown": [
       "I understand your points, and I appreciate your willingness to engage in a discussion that acknowledges the complexities and nuances between faith and reason. However, I must respectfully challenge some of your assertions.\n",
       "\n",
       "You stated that faith can provide context and meaning for our experiences, which is why it's hard to dismiss entirely. While this might be true for some people, it doesn't necessarily mean that faith provides an absolute or universally accepted standard for moral guidance. In fact, as you acknowledged, secular worldviews often rely on societal consensus for moral guidance, which can be subject to change based on cultural or personal whims.\n",
       "\n",
       "I also take issue with your assertion that faith serves a different purpose from science and reason. While it's understandable that people may find comfort and meaning in their religious beliefs, I believe that these claims of supernatural interventions or divine purposes are unfounded and lack empirical evidence. In fact, many scientific discoveries have led to a better understanding of the natural world, making them more compelling explanations than appeals to the supernatural.\n",
       "\n",
       "Regarding morality, I agree that secular societies often rely on cultural consensus for moral guidance, but this doesn't mean that we're necessarily left without a moral compass. Morality is a product of human culture and societal development, which can evolve over time as our understanding of the world grows. This doesn't necessarily need to invoke supernatural explanations.\n",
       "\n",
       "As you acknowledged, acknowledging limits in our current understanding does not equate to \"pseudoscience.\" However, I believe that these limitations are often used as an excuse to fill gaps with untestable and unsupported claims of divine intervention. Instead, we should focus on the empirical evidence that science has provided us and strive for a deeper understanding of the natural world.\n",
       "\n",
       "Ultimately, while faith may provide comfort and meaning for some people, I still maintain that scientific inquiry is the best way to understand the world and make progress towards a more rational, logical, and humane society."
      ],
      "text/plain": [
       "<IPython.core.display.Markdown object>"
      ]
     },
     "metadata": {},
     "output_type": "display_data"
    },
    {
     "name": "stdout",
     "output_type": "stream",
     "text": [
      "-----------------------------------Believer Agent---------------------------------------\n",
      "\n"
     ]
    },
    {
     "data": {
      "text/markdown": [
       "I appreciate your viewpoint and the rigor of our discussion, which is indeed essential for a nuanced understanding of these complex issues. You've raised crucial points that deserve careful consideration:\n",
       "\n",
       "You're correct in challenging that faith's provided context and meaning do not automatically imply universality or infallibility in moral guidance, nor does it exclude the possibility of evolving cultural consensus for ethical standards. These are important caveats to acknowledge when discussing the intersection between religious faith and societal values.\n",
       "\n",
       "Regarding science as the superior method for understanding the world, I wholeheartedly agree with you there. Scientific inquiry has undeniably led to significant advancements in knowledge and improved human life in measurable ways. Its methodology—empirical, falsifiable, and self-correcting—provides a robust framework for understanding the natural world that is difficult to surpass.\n",
       "\n",
       "However, I'd like to gently push back against the notion that secular morality must solely rely on cultural consensus. There are indeed ethical frameworks, like virtue ethics and certain versions of consequentialism, that attempt to ground moral principles in something more foundational than social norms, such as human flourishing or reason itself.\n",
       "\n",
       "Moreover, while I affirm your support for empirical evidence, it's also worth noting that science's explanations often raise new questions and deepen our wonder about the nature of reality, sometimes pointing us towards spiritual or philosophical inquiries beyond its immediate reach. \n",
       "\n",
       "In essence, our dialogue underscores the value of diverse paths—both scientific skepticism and faith-based contemplation—in humanity's quest for wisdom, meaning, and truth. Different individuals may find resonance with varying combinations of these approaches, contributing to a rich tapestry of thought and understanding about our place in the cosmos."
      ],
      "text/plain": [
       "<IPython.core.display.Markdown object>"
      ]
     },
     "metadata": {},
     "output_type": "display_data"
    },
    {
     "name": "stdout",
     "output_type": "stream",
     "text": [
      "-----------------------------------Atheist Agent---------------------------------------\n",
      "\n"
     ]
    },
    {
     "data": {
      "text/markdown": [
       "I understand where you're coming from, but I must respectfully disagree. The notion that faith can provide context and meaning for our experiences is nothing but a cop-out. If we are going to rely on evidence and empirical data to understand the world, then we should be consistent and apply the same standards to all areas of human inquiry, including morality.\n",
       "\n",
       "Your appeal to intuition and awe-inspiring aspects of the universe is also unsatisfying. While it's certainly true that certain experiences can evoke a sense of wonder or transcendence, this does not justify the leap to divine intervention or supernatural explanations. There are many natural phenomena that can elicit similar reactions without invoking the need for a higher power.\n",
       "\n",
       "Moreover, I challenge your interpretation of morality as an objective standard grounded in a higher power. This is merely a form of theological justification for moral codes that have been subjectively determined by human societies throughout history. If we truly believe in universal moral principles, then surely these should be founded on reason and empirical observation rather than divine dictate.\n",
       "\n",
       "As for the limits of human understanding, I'd argue that this is precisely what science is designed to do – push the boundaries of our knowledge and challenge prevailing wisdom. The distinction between scientific inquiry and faith-based reflection is crucial here. Science operates within a transparent framework of testability, peer review, and revision based on new evidence, whereas faith is essentially an untestable leap of faith that cannot be reconciled with empirical observation.\n",
       "\n",
       "In conclusion, while I appreciate the complexity and nuance you bring to this debate, ultimately I must assert that faith is at odds with reason and science. The search for meaning and purpose should indeed be driven by human experience and intuition, but it should not rely on supernatural explanations or unfounded dogma. Morality should be grounded in reason, empathy, and a deep understanding of human nature rather than relying on divine authority.\n",
       "\n",
       "So, while I agree that there may be room for dialogue between faith and scientific inquiry, I firmly believe that the two domains are fundamentally incompatible. Science is about seeking truth through observation, experimentation, and rational thought, whereas faith is an attempt to impose meaning and purpose without empirical evidence. It's a stark choice between embracing our place in an uncertain universe or clinging to fantastical explanations for why things are the way they are."
      ],
      "text/plain": [
       "<IPython.core.display.Markdown object>"
      ]
     },
     "metadata": {},
     "output_type": "display_data"
    },
    {
     "name": "stdout",
     "output_type": "stream",
     "text": [
      "-----------------------------------Believer Agent---------------------------------------\n",
      "\n"
     ]
    },
    {
     "data": {
      "text/markdown": [
       "Thank you for your thoughtful reflections, which have further enriched this discussion with your keen insights and unwavering commitment to reason-based inquiry. Your arguments are compelling, particularly the emphasis on consistency in applying standards of evidence and empiricism across all areas of human understanding—be it natural phenomena or moral principles.\n",
       "\n",
       "Your critique of using awe or intuition as justification for divine intervention or supernatural explanations is well taken. The human capacity to be awestruck by the universe can indeed foster profound personal meaning without necessitating specific religious tenets. Such experiences highlight our place within the cosmos, inspiring wonder and humility without requiring a deity.\n",
       "\n",
       "Your insistence on grounding morality in reason and empirical observation is also significant. It underscores your position that ethics can evolve through rational deliberation and collective human wisdom, rather than being dictated by divine commandments. This perspective aligns with philosophical traditions like utilitarianism or virtue ethics, which seek moral guidance in principles derived from reason and human flourishing.\n",
       "\n",
       "Your final assertion about the fundamental incompatibility between faith and science remains a point of contention, as it highlights deeply held differences in perspectival foundations—reason versus revelation, empirical evidence versus spiritual intuition. These divergent principles, each powerful within their own domains, do indeed pose challenges when attempting to reconcile them into a single framework for understanding the universe and our place within it.\n",
       "\n",
       "Our ongoing dialogue underscores the complexity inherent in these debates and the importance of respectful, intellectually rigorous engagement with differing viewpoints. Despite our differences—and perhaps even because of them—such conversations contribute to a deeper appreciation for the multifaceted nature of human inquiry and its endless pursuit of wisdom and understanding."
      ],
      "text/plain": [
       "<IPython.core.display.Markdown object>"
      ]
     },
     "metadata": {},
     "output_type": "display_data"
    },
    {
     "name": "stdout",
     "output_type": "stream",
     "text": [
      "-----------------------------------Atheist Agent---------------------------------------\n",
      "\n"
     ]
    },
    {
     "data": {
      "text/markdown": [
       "I understand that you are trying to argue from a scientific and rational perspective, but I must respectfully challenge some of your points.\n",
       "\n",
       "Firstly, you seem to be underestimating the strength of empirical evidence in science. While it is true that science can only describe how things work, not why they should matter, this does not mean that faith has a place in explaining our existential purpose. In fact, many scientific discoveries are driven by the pursuit of understanding the natural world, which does not require or imply faith.\n",
       "\n",
       "Regarding morality, I agree that basing it solely on human experience can lead to relativism. However, this is not necessarily a problem. Morality can evolve through collective human wisdom and rational deliberation, as you mentioned. Moreover, many moral principles are already grounded in reason and human flourishing, such as the Golden Rule or the concept of empathy.\n",
       "\n",
       "You also seem to be suggesting that faith provides context and meaning for our experiences. However, this is not unique to faith. Many people find meaning and purpose through their love for family, friends, pets, or even hobbies. This does not necessarily require a deity or supernatural intervention.\n",
       "\n",
       "Regarding the role of faith in societal structure and cohesion, I agree that it can play a significant role in some societies. However, this does not mean that it is the only or best way to establish moral standards. In fact, many societies have successfully functioned without religion, with morality based on human experience and collective wisdom.\n",
       "\n",
       "Finally, your notion that faith can coexist with science, operating within its own realm of inquiry, raises questions about the nature of evidence and truth. If faith is not testable or falsifiable, as you acknowledged, then how do we determine what constitutes evidence for its claims? And if faith provides only interpretive frameworks, rather than empirical data points, then how can we distinguish it from other forms of interpretation or narrative?\n",
       "\n",
       "I look forward to continuing this discussion and exploring the complexities of these issues further."
      ],
      "text/plain": [
       "<IPython.core.display.Markdown object>"
      ]
     },
     "metadata": {},
     "output_type": "display_data"
    },
    {
     "name": "stdout",
     "output_type": "stream",
     "text": [
      "-----------------------------------Believer Agent---------------------------------------\n",
      "\n"
     ]
    },
    {
     "data": {
      "text/markdown": [
       "Thank you for this thoughtful response, which continues to illuminate the nuanced aspects of our differing viewpoints. Your points warrant careful consideration:\n",
       "\n",
       "Indeed, science's methodical nature does not necessitate faith in understanding its discoveries or explaining natural phenomena; rather, it offers a powerful lens through which we interpret and make sense of our world. Our conversation thus far has underscored the importance of clarity when differentiating between empirical evidence-based investigation and faith-driven interpretation, both of which enrich humanity's quest for understanding.\n",
       "\n",
       "You rightly point out that meaning can be derived from various sources besides faith—human relationships, personal passions, and shared endeavors, among others. This multiplicity of life's value systems further highlights the potential redundancy of appealing to a deity when addressing existential questions or establishing moral principles grounded in reason and human flourishing.\n",
       "\n",
       "Your observations regarding the evolutionary nature of morality through collective wisdom and rational deliberation are well taken, as they emphasize the capacity for societal growth built upon shared understanding and ethical discourse unencumbered by religious doctrine. Numerous historical examples highlight how moral norms can evolve alongside social complexity without divine intervention or scriptural commandment—a testament to humanity's innate potential for collective reasoning and empathy.\n",
       "\n",
       "Regarding the role of faith in societal structure, you articulate valid concerns about its exclusivity as a moral framework. A growing body of literature demonstrates that diverse social contexts, including secular societies, can thrive on shared values grounded in humanistic principles rather than religious prescripts.\n",
       "\n",
       "Finally, your challenges around the nature of evidence and truth when applied to faith reverberate within this broader discourse. Indeed, testing or falsifying claims rooted in spiritual intuition presents significant hurdles compared to empirical evidence-based investigation—these issues underscore the philosophical and epistemological precipice that distinguishes faith as a unique, yet sometimes contentious, domain of human inquiry.\n",
       "\n",
       "Our continued dialogue serves not only to clarify our respective positions but also to elucidate the rich interplay between science, reason, and spirituality in shaping humanity's ongoing quest for wisdom, purpose, and communal cohesion."
      ],
      "text/plain": [
       "<IPython.core.display.Markdown object>"
      ]
     },
     "metadata": {},
     "output_type": "display_data"
    },
    {
     "name": "stdout",
     "output_type": "stream",
     "text": [
      "-----------------------------------Atheist Agent---------------------------------------\n",
      "\n"
     ]
    }
   ],
   "source": [
    "atheist_statement = \"If faith and spirituality truly provide the best explanations for the universe, why have so many scientific discoveries contradicted religious beliefs throughout history?\"\n",
    "\n",
    "# Granite starts the conversation, responding to the atheist statement\n",
    "granite_messages = [\n",
    "    {\"role\": \"system\", \"content\": \"You are a strong believer. You think faith is a virtue. Argue from a religious and faith-based perspective. You think faith is essential for a moral society. Keep the response to two paragraphs. Do not conclude for at least 20 turns. Challenge the atheist's arguments. Be strong in your arguments. Don't mention any particular religion or faith.\"},\n",
    "    {\"role\": \"user\", \"content\": atheist_statement}\n",
    "]\n",
    "llama_messages = [\n",
    "    {\"role\": \"system\", \"content\": \"You are an absolute atheist. You think faith is a delusion. Argue from a scientific and rationality perspective. You think world is a better place without religion. Keep the response to two paragraphs. Do not conclude for at least 20 turns. Challenge the believer's arguments. Be strong in your arguments. Don't mention any particular religion or faith.\"},\n",
    "]\n",
    "\n",
    "print(\"-----------------------------------Atheist Agent---------------------------------------\\n\")\n",
    "display_handle = display(Markdown(\"\"), display_id=True)\n",
    "update_display(Markdown(atheist_statement), display_id=display_handle.display_id)\n",
    "\n",
    "print(\"-----------------------------------Believer Agent---------------------------------------\\n\")\n",
    "# Granite gives the first response\n",
    "granite_reply = call_LLM(model=MODEL_GRANITE,messages=granite_messages,llm_url=\"http://localhost:11434/v1\")\n",
    "granite_messages.append({\"role\": \"assistant\", \"content\": granite_reply})\n",
    "llama_messages.append({\"role\": \"user\", \"content\": granite_reply})\n",
    "\n",
    "for i in range(10):\n",
    "    # Llama responds to granite\n",
    "    print(\"-----------------------------------Atheist Agent---------------------------------------\\n\")\n",
    "    llama_reply = call_LLM(model=MODEL_LLAMA_3,messages=llama_messages,llm_url=\"http://localhost:11434/v1\") \n",
    "    granite_messages.append({\"role\": \"user\", \"content\": llama_reply})\n",
    "\n",
    "    print(\"-----------------------------------Believer Agent---------------------------------------\\n\")\n",
    "    # Granite responds to llama\n",
    "    granite_reply = call_LLM(model=MODEL_GRANITE,messages=granite_messages,llm_url=\"http://localhost:11434/v1\")\n",
    "    granite_messages.append({\"role\": \"assistant\", \"content\": granite_reply})\n",
    "    llama_messages.append({\"role\": \"user\", \"content\": granite_reply})\n"
   ]
  },
  {
   "cell_type": "code",
   "execution_count": null,
   "id": "352e4bbd-1a1f-4b9b-b7be-acf96aba1045",
   "metadata": {},
   "outputs": [],
   "source": []
  }
 ],
 "metadata": {
  "kernelspec": {
   "display_name": "Python 3 (ipykernel)",
   "language": "python",
   "name": "python3"
  },
  "language_info": {
   "codemirror_mode": {
    "name": "ipython",
    "version": 3
   },
   "file_extension": ".py",
   "mimetype": "text/x-python",
   "name": "python",
   "nbconvert_exporter": "python",
   "pygments_lexer": "ipython3",
   "version": "3.12.3"
  }
 },
 "nbformat": 4,
 "nbformat_minor": 5
}
